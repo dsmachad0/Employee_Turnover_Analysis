{
    "metadata": {
        "kernelspec": {
            "name": "SQL",
            "display_name": "SQL",
            "language": "sql"
        },
        "language_info": {
            "name": "sql",
            "version": ""
        }
    },
    "nbformat_minor": 2,
    "nbformat": 4,
    "cells": [
        {
            "cell_type": "markdown",
            "source": [
                "# Data Cleaning Process\n",
                "\n",
                "<span style=\"background: transparent; margin-top: 0pt; margin-bottom: 0pt;\" data-preserver-spaces=\"true\">Before we start our analysis on the Employees Churn Dataset, we will need to perform a few data cleaning steps to prepare our dataset.&nbsp;</span> \n",
                "\n",
                "<span style=\"background: transparent; margin-top: 0pt; margin-bottom: 0pt;\" data-preserver-spaces=\"true\"><br></span>\n",
                "\n",
                "- <span style=\"background: transparent; margin-top: 0pt; margin-bottom: 0pt;\" data-preserver-spaces=\"true\">Refer to the data dictionary for more details.</span>\n",
                "\n",
                "## \n",
                "\n",
                "1. <span style=\"background: transparent; margin-top: 0pt; margin-bottom: 0pt;\" data-preserver-spaces=\"true\">Checking our Dataset</span>\n",
                "\n",
                "<span style=\"background: transparent; margin-top: 0pt; margin-bottom: 0pt;\" data-preserver-spaces=\"true\">First, let's look at our dataset to see what kind of preparation is needed before our analysis. It seems that we will need to change some columns to the appropriate data type.&nbsp;</span>"
            ],
            "metadata": {
                "azdata_cell_guid": "bbc992fc-a744-4fba-8699-6145f9e56041"
            },
            "attachments": {}
        },
        {
            "cell_type": "code",
            "source": [
                "--Selecting first 5 rows\r\n",
                "SELECT TOP(5) *\r\n",
                "FROM [dbo].[employee_churn_data]\r\n",
                "\r\n",
                "-- Checking data types\r\n",
                "SELECT COLUMN_NAME, DATA_TYPE \r\n",
                "FROM information_schema.columns"
            ],
            "metadata": {
                "azdata_cell_guid": "65a8b80b-2561-43b9-9007-2c695b15b2f4"
            },
            "outputs": [
                {
                    "output_type": "display_data",
                    "data": {
                        "text/html": "(5 rows affected)"
                    },
                    "metadata": {}
                },
                {
                    "output_type": "display_data",
                    "data": {
                        "text/html": "(10 rows affected)"
                    },
                    "metadata": {}
                },
                {
                    "output_type": "display_data",
                    "data": {
                        "text/html": "Total execution time: 00:00:00.016"
                    },
                    "metadata": {}
                },
                {
                    "output_type": "execute_result",
                    "metadata": {},
                    "execution_count": 2,
                    "data": {
                        "application/vnd.dataresource+json": {
                            "schema": {
                                "fields": [
                                    {
                                        "name": "department"
                                    },
                                    {
                                        "name": "promoted"
                                    },
                                    {
                                        "name": "review"
                                    },
                                    {
                                        "name": "projects"
                                    },
                                    {
                                        "name": "salary"
                                    },
                                    {
                                        "name": "tenure"
                                    },
                                    {
                                        "name": "satisfaction"
                                    },
                                    {
                                        "name": "bonus"
                                    },
                                    {
                                        "name": "avg_hrs_month"
                                    },
                                    {
                                        "name": "left"
                                    }
                                ]
                            },
                            "data": [
                                {
                                    "0": "operations",
                                    "1": "0",
                                    "2": "0.5775686596355698",
                                    "3": "3",
                                    "4": "low",
                                    "5": "5.0",
                                    "6": "0.6267589740293295",
                                    "7": "0",
                                    "8": "180.8660696668475",
                                    "9": "no"
                                },
                                {
                                    "0": "operations",
                                    "1": "0",
                                    "2": "0.7518996607137884",
                                    "3": "3",
                                    "4": "medium",
                                    "5": "6.0",
                                    "6": "0.4436789547574034",
                                    "7": "0",
                                    "8": "182.7081489616225",
                                    "9": "no"
                                },
                                {
                                    "0": "support",
                                    "1": "0",
                                    "2": "0.7225484486077993",
                                    "3": "3",
                                    "4": "medium",
                                    "5": "6.0",
                                    "6": "0.4468232240377964",
                                    "7": "0",
                                    "8": "184.4160840365652",
                                    "9": "no"
                                },
                                {
                                    "0": "logistics",
                                    "1": "0",
                                    "2": "0.6751583086657402",
                                    "3": "4",
                                    "4": "high",
                                    "5": "8.0",
                                    "6": "0.4401387461171622",
                                    "7": "0",
                                    "8": "188.7075447757313",
                                    "9": "no"
                                },
                                {
                                    "0": "sales",
                                    "1": "0",
                                    "2": "0.676203174778892",
                                    "3": "3",
                                    "4": "high",
                                    "5": "5.0",
                                    "6": "0.5776074456916579",
                                    "7": "1",
                                    "8": "179.82108327312108",
                                    "9": "no"
                                }
                            ]
                        },
                        "text/html": [
                            "<table>",
                            "<tr><th>department</th><th>promoted</th><th>review</th><th>projects</th><th>salary</th><th>tenure</th><th>satisfaction</th><th>bonus</th><th>avg_hrs_month</th><th>left</th></tr>",
                            "<tr><td>operations</td><td>0</td><td>0.5775686596355698</td><td>3</td><td>low</td><td>5.0</td><td>0.6267589740293295</td><td>0</td><td>180.8660696668475</td><td>no</td></tr>",
                            "<tr><td>operations</td><td>0</td><td>0.7518996607137884</td><td>3</td><td>medium</td><td>6.0</td><td>0.4436789547574034</td><td>0</td><td>182.7081489616225</td><td>no</td></tr>",
                            "<tr><td>support</td><td>0</td><td>0.7225484486077993</td><td>3</td><td>medium</td><td>6.0</td><td>0.4468232240377964</td><td>0</td><td>184.4160840365652</td><td>no</td></tr>",
                            "<tr><td>logistics</td><td>0</td><td>0.6751583086657402</td><td>4</td><td>high</td><td>8.0</td><td>0.4401387461171622</td><td>0</td><td>188.7075447757313</td><td>no</td></tr>",
                            "<tr><td>sales</td><td>0</td><td>0.676203174778892</td><td>3</td><td>high</td><td>5.0</td><td>0.5776074456916579</td><td>1</td><td>179.82108327312108</td><td>no</td></tr>",
                            "</table>"
                        ]
                    }
                },
                {
                    "output_type": "execute_result",
                    "metadata": {},
                    "execution_count": 2,
                    "data": {
                        "application/vnd.dataresource+json": {
                            "schema": {
                                "fields": [
                                    {
                                        "name": "COLUMN_NAME"
                                    },
                                    {
                                        "name": "DATA_TYPE"
                                    }
                                ]
                            },
                            "data": [
                                {
                                    "0": "department",
                                    "1": "varchar"
                                },
                                {
                                    "0": "promoted",
                                    "1": "varchar"
                                },
                                {
                                    "0": "review",
                                    "1": "varchar"
                                },
                                {
                                    "0": "projects",
                                    "1": "varchar"
                                },
                                {
                                    "0": "salary",
                                    "1": "varchar"
                                },
                                {
                                    "0": "tenure",
                                    "1": "varchar"
                                },
                                {
                                    "0": "satisfaction",
                                    "1": "varchar"
                                },
                                {
                                    "0": "bonus",
                                    "1": "varchar"
                                },
                                {
                                    "0": "avg_hrs_month",
                                    "1": "varchar"
                                },
                                {
                                    "0": "left",
                                    "1": "varchar"
                                }
                            ]
                        },
                        "text/html": [
                            "<table>",
                            "<tr><th>COLUMN_NAME</th><th>DATA_TYPE</th></tr>",
                            "<tr><td>department</td><td>varchar</td></tr>",
                            "<tr><td>promoted</td><td>varchar</td></tr>",
                            "<tr><td>review</td><td>varchar</td></tr>",
                            "<tr><td>projects</td><td>varchar</td></tr>",
                            "<tr><td>salary</td><td>varchar</td></tr>",
                            "<tr><td>tenure</td><td>varchar</td></tr>",
                            "<tr><td>satisfaction</td><td>varchar</td></tr>",
                            "<tr><td>bonus</td><td>varchar</td></tr>",
                            "<tr><td>avg_hrs_month</td><td>varchar</td></tr>",
                            "<tr><td>left</td><td>varchar</td></tr>",
                            "</table>"
                        ]
                    }
                }
            ],
            "execution_count": 2
        },
        {
            "cell_type": "markdown",
            "source": [
                "## 2\\. Changing Data Types\n",
                "\n",
                "We will change the columns \"review\" and \"avg\\_hrs\\_month\"  from string to _float_, \"projects\", \"promoted\", \"tenure\", and \"bonus\" from string to _integer._ By changing the data types, it will be easier to perform calculations and to create data visualizations."
            ],
            "metadata": {
                "azdata_cell_guid": "5b466462-0d37-422a-9ffa-8cdb5af17a1e"
            },
            "attachments": {}
        },
        {
            "cell_type": "code",
            "source": [
                "ALTER TABLE [dbo].[employee_churn_data]\r\n",
                "ALTER COLUMN review FLOAT\r\n",
                "\r\n",
                "ALTER TABLE [dbo].[employee_churn_data]\r\n",
                "ALTER COLUMN avg_hrs_month FLOAT\r\n",
                "\r\n",
                "ALTER TABLE [dbo].[employee_churn_data]\r\n",
                "ALTER COLUMN projects INT \r\n",
                "\r\n",
                "ALTER TABLE [dbo].[employee_churn_data]\r\n",
                "ALTER COLUMN tenure INT \r\n",
                "\r\n",
                "ALTER TABLE [dbo].[employee_churn_data]\r\n",
                "ALTER COLUMN promoted INT \r\n",
                "\r\n",
                "ALTER TABLE [dbo].[employee_churn_data]\r\n",
                "ALTER COLUMN bonus INT \r\n",
                ""
            ],
            "metadata": {
                "azdata_cell_guid": "0be20838-4519-4622-ba67-0f6616d03548"
            },
            "outputs": [
                {
                    "output_type": "display_data",
                    "data": {
                        "text/html": "Commands completed successfully."
                    },
                    "metadata": {}
                },
                {
                    "output_type": "display_data",
                    "data": {
                        "text/html": "Total execution time: 00:00:00.014"
                    },
                    "metadata": {}
                }
            ],
            "execution_count": 6
        },
        {
            "cell_type": "markdown",
            "source": [
                "## 3\\. Checking Data Types"
            ],
            "metadata": {
                "azdata_cell_guid": "4256cf22-26ed-4813-9359-daaeec9b5cef"
            },
            "attachments": {}
        },
        {
            "cell_type": "code",
            "source": [
                "-- Checking data types\r\n",
                "SELECT COLUMN_NAME, DATA_TYPE \r\n",
                "FROM information_schema.columns"
            ],
            "metadata": {
                "azdata_cell_guid": "13e8729b-5f82-4dda-bed5-85e170d9d115"
            },
            "outputs": [
                {
                    "output_type": "display_data",
                    "data": {
                        "text/html": "(10 rows affected)"
                    },
                    "metadata": {}
                },
                {
                    "output_type": "display_data",
                    "data": {
                        "text/html": "Total execution time: 00:00:00.006"
                    },
                    "metadata": {}
                },
                {
                    "output_type": "execute_result",
                    "metadata": {},
                    "execution_count": 7,
                    "data": {
                        "application/vnd.dataresource+json": {
                            "schema": {
                                "fields": [
                                    {
                                        "name": "COLUMN_NAME"
                                    },
                                    {
                                        "name": "DATA_TYPE"
                                    }
                                ]
                            },
                            "data": [
                                {
                                    "0": "department",
                                    "1": "varchar"
                                },
                                {
                                    "0": "promoted",
                                    "1": "int"
                                },
                                {
                                    "0": "review",
                                    "1": "float"
                                },
                                {
                                    "0": "projects",
                                    "1": "int"
                                },
                                {
                                    "0": "salary",
                                    "1": "varchar"
                                },
                                {
                                    "0": "tenure",
                                    "1": "int"
                                },
                                {
                                    "0": "satisfaction",
                                    "1": "varchar"
                                },
                                {
                                    "0": "bonus",
                                    "1": "int"
                                },
                                {
                                    "0": "avg_hrs_month",
                                    "1": "float"
                                },
                                {
                                    "0": "left",
                                    "1": "varchar"
                                }
                            ]
                        },
                        "text/html": [
                            "<table>",
                            "<tr><th>COLUMN_NAME</th><th>DATA_TYPE</th></tr>",
                            "<tr><td>department</td><td>varchar</td></tr>",
                            "<tr><td>promoted</td><td>int</td></tr>",
                            "<tr><td>review</td><td>float</td></tr>",
                            "<tr><td>projects</td><td>int</td></tr>",
                            "<tr><td>salary</td><td>varchar</td></tr>",
                            "<tr><td>tenure</td><td>int</td></tr>",
                            "<tr><td>satisfaction</td><td>varchar</td></tr>",
                            "<tr><td>bonus</td><td>int</td></tr>",
                            "<tr><td>avg_hrs_month</td><td>float</td></tr>",
                            "<tr><td>left</td><td>varchar</td></tr>",
                            "</table>"
                        ]
                    }
                }
            ],
            "execution_count": 7
        }
    ]
}